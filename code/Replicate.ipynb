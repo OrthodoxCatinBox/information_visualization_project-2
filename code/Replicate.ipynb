{
 "cells": [
  {
   "cell_type": "code",
   "execution_count": 1,
   "id": "6ca864f5",
   "metadata": {},
   "outputs": [],
   "source": [
    "import pandas as pd\n",
    "from plotnine import *"
   ]
  },
  {
   "cell_type": "code",
   "execution_count": 3,
   "id": "fa94741e",
   "metadata": {},
   "outputs": [],
   "source": [
    "%matplotlib inline\n",
    "%config InlineBackend.figure_format='svg'"
   ]
  },
  {
   "cell_type": "code",
   "execution_count": 4,
   "id": "88556836",
   "metadata": {},
   "outputs": [],
   "source": [
    "import warnings\n",
    "warnings.filterwarnings('ignore')"
   ]
  },
  {
   "cell_type": "code",
   "execution_count": 5,
   "id": "996bd551",
   "metadata": {},
   "outputs": [],
   "source": [
    "sample=pd.read_csv('D:/Dataset/product-hunt-prouducts-1-1-2014-to-12-31-2021.csv')\n",
    "sample['release_date']=pd.to_datetime(sample['release_date'])\n",
    "sample['product_ranking']=sample['product_ranking'].map({1.0:'Rank #1',2.0:'Rank #2',3.0:'Rank #3',4.0:'Rank #4',5.0:'Rank #5'})\n",
    "sample=sample[sample['product_ranking'].isnull()==False]"
   ]
  },
  {
   "cell_type": "code",
   "execution_count": 6,
   "id": "d04029c8",
   "metadata": {},
   "outputs": [],
   "source": [
    "result=[]\n",
    "groupby_rank=sample.groupby(sample['product_ranking'])\n",
    "for name,group in groupby_rank:\n",
    "    result.append(group.sort_values(by='upvotes',ascending=False)[:5])\n",
    "Top=pd.concat(result)"
   ]
  },
  {
   "cell_type": "code",
   "execution_count": 7,
   "id": "d258ae2d",
   "metadata": {},
   "outputs": [],
   "source": [
    "SERIES=pd.Series(object)\n",
    "SERIES=pd.Series('others',index=sample.index)\n",
    "for Index in Top.index:SERIES[Index]='Tops'\n",
    "sample['attribute']=SERIES"
   ]
  },
  {
   "cell_type": "code",
   "execution_count": 9,
   "id": "ce44cf21",
   "metadata": {},
   "outputs": [],
   "source": [
    "p=(\n",
    "    ggplot(aes( x='release_date',y='upvotes'), sample)#[:1000])\n",
    "    \n",
    "    #把数据中的点映射进去\n",
    "    + geom_point( \n",
    "        size = 2.3, \n",
    "        alpha = 1, shape = 'o', stroke = .3,\n",
    "        fill = \"#008e90\", color = \"#904a00\"\n",
    "    )\n",
    "    \n",
    "    #绘制平均值曲线\n",
    "    #+ plot_loess=(ggplot( sample, aes(x='release_date',y='upvotes'))\n",
    "    \n",
    "    #+ geom_smooth(span = .5, alpha = 0.75, color = \"#900046\") #method='loess')\n",
    "    #+ geom_smooth(span=.3)\n",
    "    + geom_smooth(span=0.2, alpha = 0.75, color = \"#900046\",method='lowess',se=False, size=1.5)\n",
    "    \n",
    "    + geom_label(\n",
    "    #+ geom_text(\n",
    "        aes(x = 'release_date', y = 'upvotes', label = 'name'),\n",
    "        data = Top, #设定你要画label的数据，index一定要按顺序，不然报错 #rank_one_sample[:10], #rank_one_sample.sort_values(by='upvotes',ascending=False)[:1],\n",
    "        #max_overlaps = Inf,\n",
    "        #min.segment.length = 0,\n",
    "        #segment.linetype = \"dotted\",\n",
    "        #segment_size = 0.2,\n",
    "        #family = \"Goudy Old Style\", #那就是字体咯\n",
    "        alpha=0.7,\n",
    "        #adjust_text=([123,123,123,123,123,123,123],[123,123,123,123,123,123,123]),\n",
    "        #adjust_text(texts, \n",
    "        #    arrowprops=dict(\n",
    "        #        arrowstyle='->',#箭头样式 \n",
    "        #        lw= 1,#线宽\n",
    "        #        color='red')#箭头颜色\n",
    "        #   ),\n",
    "        ha='left',\n",
    "        size = 10, #整个矩形的大小\n",
    "        label_size = 0, #矩形边框的大小\n",
    "        nudge_x=100\n",
    "    )\n",
    "    \n",
    "    #+ geom_segment(\n",
    "    #    aes(x='release_data', xend='release_data', y='upvotes', yend='upvotes')\n",
    "    #    data=Top,\n",
    "    #    size=6,\n",
    "    #    color='#a7a9ac'\n",
    "    #    \n",
    "    #)\n",
    "    \n",
    "    + scale_y_continuous(trans = \"log10\", expand = (0, 0),labels=[pow(10,power) for power in range(1,6)])\n",
    "    \n",
    "    #+ ylim(0,13000)\n",
    "    \n",
    "    + scale_x_datetime(expand = (0, 0),labels=[2014,'', 2016,'', 2018, '',2020,'']) \n",
    "    \n",
    "    + facet_wrap('product_ranking', nrow = 1) #分成若干个子图\n",
    "    \n",
    "    + coord_cartesian(expand = True)#, clip = \"off\")\n",
    "    \n",
    "    + theme_minimal(base_family = \"Goudy Old Style\")\n",
    "    \n",
    "    #+ geom_smooth(span = .05, alpha = 0.75, color = \"#900046\")\n",
    "    \n",
    "    + theme(\n",
    "        figure_size=(18, 7),\n",
    "        \n",
    "        legend_position = \"bottom\",\n",
    "        \n",
    "        strip_text = element_text(face = \"bold\"),\n",
    "        \n",
    "        axis_text_x = element_text(size = 8),\n",
    "        \n",
    "        #title_position = \"plot\",\n",
    "        #plot_caption_position = \"plot\",\n",
    "        \n",
    "        plot_title = element_text(size = 14, face = \"bold\"),\n",
    "        #plot_subtitle = element_text(margin = margin(b = 10), size = 10,\n",
    "        #                                 color = \"gray30\"),\n",
    "        #plot_caption = element_text(margin = margin(t = 10)),\n",
    "        \n",
    "        \n",
    "        #panel_grid_major = element_line(color = \"gray\", size = 0.25, linetype = \"dashed\"),\n",
    "        #panel_grid_minor = element_line(color = \"gray\", size = 0.25, linetype = \"dashed\"),\n",
    "        \n",
    "        #axis_ticks = element_line(color = \"gray80\", size = 0.25),\n",
    "        \n",
    "        #panel_spacing = (1, \"lines\"),\n",
    "        \n",
    "        #plot_background = element_rect(fill = \"#f2f2f2\", color = \"#f2f2f2\"),\n",
    "        #plot_margin = (20, 20, 20, 20)\n",
    "        \n",
    "        #legend_backgroud='grey'\n",
    "        #panel_background=element_rect(fill=purple, alpha=.2),\n",
    "        plot_background=element_rect(fill='#f2f2f2', alpha=.3)\n",
    "    )\n",
    "    \n",
    "    +   labs(\n",
    "        y = \"Number Of Upvotes Received\",\n",
    "        x = \"Release Date\",\n",
    "        \n",
    "        title = \"Product Hunt\",\n",
    "        #subtitle = \"Number of upvotes received per product ranking over the years.\",\n",
    "        \n",
    "        caption=\"Source: components.one | Graphic: Nikolaos Pechlivanis\",\n",
    "        \n",
    "        #subtitle = (\n",
    "        #    \"Number of upvotes received per product ranking over the years. \",\n",
    "        #    \"Top *#10* products were labeled for each rank.\"\n",
    "        #),\n",
    "        \n",
    "        #text='Number of upvotes received per product ranking over the years.'\n",
    "        \n",
    "        \n",
    "        #caption = paste0(\n",
    "        #    \"Source: **components.one** | \",\n",
    "        #    \"Graphic: **Nikolaos Pechlivanis**\"\n",
    "        #)\n",
    "    )\n",
    "    \n",
    "    #+ theme_gray()\n",
    "    \n",
    "    #+ theme(figure_size=(14, 7))\n",
    "    \n",
    ")"
   ]
  },
  {
   "cell_type": "code",
   "execution_count": 10,
   "id": "c151e456",
   "metadata": {},
   "outputs": [],
   "source": [
    "p.save(filename='test1.svg')"
   ]
  }
 ],
 "metadata": {
  "kernelspec": {
   "display_name": "Python 3 (ipykernel)",
   "language": "python",
   "name": "python3"
  },
  "language_info": {
   "codemirror_mode": {
    "name": "ipython",
    "version": 3
   },
   "file_extension": ".py",
   "mimetype": "text/x-python",
   "name": "python",
   "nbconvert_exporter": "python",
   "pygments_lexer": "ipython3",
   "version": "3.9.12"
  },
  "varInspector": {
   "cols": {
    "lenName": 16,
    "lenType": 16,
    "lenVar": 40
   },
   "kernels_config": {
    "python": {
     "delete_cmd_postfix": "",
     "delete_cmd_prefix": "del ",
     "library": "var_list.py",
     "varRefreshCmd": "print(var_dic_list())"
    },
    "r": {
     "delete_cmd_postfix": ") ",
     "delete_cmd_prefix": "rm(",
     "library": "var_list.r",
     "varRefreshCmd": "cat(var_dic_list()) "
    }
   },
   "types_to_exclude": [
    "module",
    "function",
    "builtin_function_or_method",
    "instance",
    "_Feature"
   ],
   "window_display": false
  }
 },
 "nbformat": 4,
 "nbformat_minor": 5
}

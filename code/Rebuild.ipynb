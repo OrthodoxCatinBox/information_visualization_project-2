{
 "cells": [
  {
   "cell_type": "code",
   "execution_count": 1,
   "id": "cd5c82bc",
   "metadata": {},
   "outputs": [],
   "source": [
    "import pandas as pd\n",
    "from plotnine import *"
   ]
  },
  {
   "cell_type": "code",
   "execution_count": 2,
   "id": "2525f80d",
   "metadata": {},
   "outputs": [],
   "source": [
    "%matplotlib inline\n",
    "%config InlineBackend.figure_format='svg'"
   ]
  },
  {
   "cell_type": "code",
   "execution_count": 3,
   "id": "b4dcef60",
   "metadata": {},
   "outputs": [],
   "source": [
    "import warnings\n",
    "warnings.filterwarnings('ignore')"
   ]
  },
  {
   "cell_type": "code",
   "execution_count": 12,
   "id": "ab359ab1",
   "metadata": {},
   "outputs": [],
   "source": [
    "sample=pd.read_csv('D:/Dataset/product-hunt-prouducts.csv')\n",
    "sample['release_date']=pd.to_datetime(sample['release_date'])\n",
    "sample['product_ranking']=sample['product_ranking'].map({1.0:'Rank #1',2.0:'Rank #2',3.0:'Rank #3',4.0:'Rank #4',5.0:'Rank #5'})\n",
    "sample=sample[sample['product_ranking'].isnull()==False]"
   ]
  },
  {
   "cell_type": "code",
   "execution_count": 18,
   "id": "96dde792",
   "metadata": {},
   "outputs": [],
   "source": [
    "types=['PHOTOGRAPHY','PRODUCTIVITY','DESIGN TOOLS','WEB APP']"
   ]
  },
  {
   "cell_type": "code",
   "execution_count": 19,
   "id": "2cf1fc23",
   "metadata": {},
   "outputs": [],
   "source": [
    "category=sample['category_tags']\n",
    "category=category.apply(lambda x:eval(x))#.isnull()\n",
    "category=category.apply(lambda x: 'Other' if x==list() else x[0])#.iloc[:6]#.isnull()\n",
    "category=category.apply(lambda x: x if x in types else 'other')\n",
    "sample['category']=category"
   ]
  },
  {
   "cell_type": "code",
   "execution_count": 20,
   "id": "aaac868d",
   "metadata": {},
   "outputs": [],
   "source": [
    "Sample=sample[sample['category']!='other']"
   ]
  },
  {
   "cell_type": "code",
   "execution_count": 21,
   "id": "eb49bedb",
   "metadata": {},
   "outputs": [],
   "source": [
    "result=[]\n",
    "groupby_rank=sample.groupby(sample['category'])\n",
    "for name,group in groupby_rank:\n",
    "    result.append(group.sort_values(by='upvotes',ascending=False)[:5])\n",
    "Top=pd.concat(result)\n",
    "SERIES=pd.Series(object)\n",
    "SERIES=pd.Series('others',index=Sample.index)\n",
    "for Index in Top.index:SERIES[Index]='Tops'\n",
    "Sample['attribute']=SERIES\n",
    "Top=Top[Top['category']!='other']"
   ]
  },
  {
   "cell_type": "code",
   "execution_count": 68,
   "id": "18005dd8",
   "metadata": {},
   "outputs": [],
   "source": [
    "p=(\n",
    "    ggplot(aes( x='release_date',y='upvotes'), Sample)#[:1000])\n",
    "    \n",
    "    #把数据中的点映射进去\n",
    "    + geom_point( \n",
    "        aes(color='attribute',fill='attribute',alpha='attribute'),\n",
    "        #aes(color='upvotes'),\n",
    "        size = 2.5, \n",
    "        #alpha = 0.95,\n",
    "        shape = 'o', stroke = .6,\n",
    "        \n",
    "    )\n",
    "    \n",
    "    \n",
    "    + scale_color_manual(values = ('#3B293D', '#942534')) \n",
    "    + scale_fill_manual(values = ('#DE763B', '#F9F2D6'))\n",
    "    \n",
    "    + scale_alpha_manual(values=(1,0.9))\n",
    "\n",
    "    #+ geom_smooth(span = .5, alpha = 0.75, color = \"#900046\",method='lm')#,method='loess')\n",
    "    \n",
    "    + geom_label(\n",
    "        aes(x = 'release_date', y = 'upvotes', label = 'name'),\n",
    "        data = Top, #设定你要画label的数据，index一定要按顺序，不然报错 #rank_one_sample[:10], #rank_one_sample.sort_values(by='upvotes',ascending=False)[:1],\n",
    "        alpha=0.7,\n",
    "        ha='left',\n",
    "        size = 10, #整个矩形的大小\n",
    "        label_size = 0.3, #矩形边框的大小\n",
    "        nudge_x=100\n",
    "    )\n",
    "    \n",
    "    + scale_x_datetime(expand = (0, 0),labels=[2014,'', 2016,'', 2018, '',2020,'']) \n",
    "    \n",
    "    + facet_wrap('category', nrow = 1) #分成若干个子图\n",
    "    \n",
    "    + coord_cartesian(expand = True)#, clip = \"off\")\n",
    "    \n",
    "    + theme_minimal(base_family = \"Goudy Old Style\")\n",
    "    \n",
    "    + theme(\n",
    "        figure_size=(16, 7),\n",
    "        legend_position = \"right\",\n",
    "        strip_text = element_text(face = \"bold\"),\n",
    "        axis_text_x = element_text(size = 8),\n",
    "        #axis_text_y = element_text(size = 8),\n",
    "        axis_title_y=element_text(size=12,angle=0),\n",
    "        plot_title = element_text(size = 14, face = \"bold\"),\n",
    "        plot_background=element_rect(fill='#f2f2f2', alpha=.3),\n",
    "        #element_line='dashed'\n",
    "        #strip_margin_y=0.5,\n",
    "        #strip_margin_x=0.1,\n",
    "    )\n",
    "\n",
    "    + labs(\n",
    "        y = '''\n",
    "        Number Of Upvotes                           \n",
    "        \n",
    "        \n",
    "        \n",
    "        \n",
    "        \n",
    "        \n",
    "        \n",
    "        \n",
    "        \n",
    "        \n",
    "        \n",
    "        \n",
    "        \n",
    "        \n",
    "        \n",
    "        \n",
    "        \n",
    "        ''',\n",
    "        x = '''\n",
    "        Release Date (Year)\n",
    "        ''',\n",
    "        title = '''\n",
    "        Product Hunt\n",
    "        ''',\n",
    "        caption=\"Source : components.one | Graphic : LZU DS Team17\",\n",
    "    )\n",
    ")"
   ]
  },
  {
   "cell_type": "code",
   "execution_count": null,
   "id": "f903467c",
   "metadata": {},
   "outputs": [],
   "source": []
  },
  {
   "cell_type": "code",
   "execution_count": 69,
   "id": "1280ed2a",
   "metadata": {},
   "outputs": [],
   "source": [
    "p.save(filename='rebuild1.svg')"
   ]
  }
 ],
 "metadata": {
  "kernelspec": {
   "display_name": "Python 3 (ipykernel)",
   "language": "python",
   "name": "python3"
  },
  "language_info": {
   "codemirror_mode": {
    "name": "ipython",
    "version": 3
   },
   "file_extension": ".py",
   "mimetype": "text/x-python",
   "name": "python",
   "nbconvert_exporter": "python",
   "pygments_lexer": "ipython3",
   "version": "3.9.12"
  },
  "varInspector": {
   "cols": {
    "lenName": 16,
    "lenType": 16,
    "lenVar": 40
   },
   "kernels_config": {
    "python": {
     "delete_cmd_postfix": "",
     "delete_cmd_prefix": "del ",
     "library": "var_list.py",
     "varRefreshCmd": "print(var_dic_list())"
    },
    "r": {
     "delete_cmd_postfix": ") ",
     "delete_cmd_prefix": "rm(",
     "library": "var_list.r",
     "varRefreshCmd": "cat(var_dic_list()) "
    }
   },
   "types_to_exclude": [
    "module",
    "function",
    "builtin_function_or_method",
    "instance",
    "_Feature"
   ],
   "window_display": false
  }
 },
 "nbformat": 4,
 "nbformat_minor": 5
}
